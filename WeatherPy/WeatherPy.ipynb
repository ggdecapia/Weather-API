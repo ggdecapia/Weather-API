{
 "cells": [
  {
   "cell_type": "markdown",
   "metadata": {},
   "source": [
    "# WeatherPy\n",
    "----\n",
    "\n",
    "#### Note\n",
    "* Instructions have been included for each segment. You do not have to follow them exactly, but they are included to help you think through the steps."
   ]
  },
  {
   "cell_type": "code",
   "execution_count": 1,
   "metadata": {
    "scrolled": true
   },
   "outputs": [],
   "source": [
    "# Dependencies and Setup\n",
    "import matplotlib.pyplot as plt\n",
    "import pandas as pd\n",
    "import numpy as np\n",
    "import requests\n",
    "import time\n",
    "from scipy.stats import linregress\n",
    "\n",
    "# Import API key\n",
    "from api_keys import weather_api_key\n",
    "\n",
    "# Incorporated citipy to determine city based on latitude and longitude\n",
    "from citipy import citipy\n",
    "\n",
    "# Output Files (CSV)\n",
    "output_data_file = \"output_data/cities.csv\"\n",
    "clean_city_data_file = \"output_data/cleancitydata.csv\"\n",
    "\n",
    "# Range of latitudes and longitudes\n",
    "lat_range = (-90, 90)\n",
    "lng_range = (-180, 180)"
   ]
  },
  {
   "cell_type": "markdown",
   "metadata": {},
   "source": [
    "## Generate Cities List"
   ]
  },
  {
   "cell_type": "code",
   "execution_count": 2,
   "metadata": {},
   "outputs": [
    {
     "data": {
      "text/plain": [
       "618"
      ]
     },
     "execution_count": 2,
     "metadata": {},
     "output_type": "execute_result"
    }
   ],
   "source": [
    "# List for holding lat_lngs and cities\n",
    "lat_lngs = []\n",
    "cities = []\n",
    "\n",
    "# Create a set of random lat and lng combinations\n",
    "lats = np.random.uniform(lat_range[0], lat_range[1], size=1500)\n",
    "lngs = np.random.uniform(lng_range[0], lng_range[1], size=1500)\n",
    "lat_lngs = zip(lats, lngs)\n",
    "\n",
    "# Identify nearest city for each lat, lng combination\n",
    "for lat_lng in lat_lngs:\n",
    "    city = citipy.nearest_city(lat_lng[0], lat_lng[1]).city_name\n",
    "    \n",
    "    # If the city is unique, then add it to a our cities list\n",
    "    if city not in cities:\n",
    "        cities.append(city)\n",
    "\n",
    "# Print the city count to confirm sufficient count\n",
    "len(cities)"
   ]
  },
  {
   "cell_type": "markdown",
   "metadata": {},
   "source": [
    "### Perform API Calls\n",
    "* Perform a weather check on each city using a series of successive API calls.\n",
    "* Include a print log of each city as it'sbeing processed (with the city number and city name).\n"
   ]
  },
  {
   "cell_type": "code",
   "execution_count": 3,
   "metadata": {},
   "outputs": [
    {
     "name": "stdout",
     "output_type": "stream",
     "text": [
      "City = bambous virieux\n"
     ]
    },
    {
     "data": {
      "text/plain": [
       "{'coord': {'lon': 57.76, 'lat': -20.34},\n",
       " 'weather': [{'id': 803,\n",
       "   'main': 'Clouds',\n",
       "   'description': 'broken clouds',\n",
       "   'icon': '04d'}],\n",
       " 'base': 'stations',\n",
       " 'main': {'temp': 76.53,\n",
       "  'feels_like': 74.16,\n",
       "  'temp_min': 75.99,\n",
       "  'temp_max': 77,\n",
       "  'pressure': 1021,\n",
       "  'humidity': 65},\n",
       " 'visibility': 10000,\n",
       " 'wind': {'speed': 12.75, 'deg': 110},\n",
       " 'clouds': {'all': 75},\n",
       " 'dt': 1596098601,\n",
       " 'sys': {'type': 1,\n",
       "  'id': 2061,\n",
       "  'country': 'MU',\n",
       "  'sunrise': 1596076796,\n",
       "  'sunset': 1596117039},\n",
       " 'timezone': 14400,\n",
       " 'id': 1106677,\n",
       " 'name': 'Bambous Virieux',\n",
       " 'cod': 200}"
      ]
     },
     "execution_count": 3,
     "metadata": {},
     "output_type": "execute_result"
    }
   ],
   "source": [
    "# this is for practice ONLY api call using just 1 city\n",
    "url = \"http://api.openweathermap.org/data/2.5/weather?units=Imperial&APPID=\" + weather_api_key\n",
    "query_url = url + \"&q=\" + cities[0]\n",
    "print(f\"City = {cities[0]}\")\n",
    "\n",
    "# Get weather data\n",
    "weather_response_json = requests.get(query_url).json()\n",
    "weather_response_json"
   ]
  },
  {
   "cell_type": "code",
   "execution_count": 4,
   "metadata": {},
   "outputs": [
    {
     "name": "stdout",
     "output_type": "stream",
     "text": [
      "1 bambous virieux\n",
      "2 machilipatnam\n",
      "3 rikitea\n",
      "4 casper\n",
      "5 ushuaia\n",
      "6 hermanus\n",
      "7 kualakapuas\n",
      "8 kruisfontein\n",
      "9 longyearbyen\n",
      "10 vila franca do campo\n",
      "11 bredasdorp\n",
      "12 yellowknife\n",
      "13 sorland\n",
      "14 avera\n",
      "15 taolanaro\n",
      "16 punta arenas\n",
      "17 provideniya\n",
      "18 port alfred\n",
      "19 nikolskoye\n",
      "20 busselton\n",
      "21 dikson\n",
      "22 lagoa\n",
      "23 northam\n",
      "24 marawi\n",
      "25 hobart\n",
      "26 chupa\n",
      "27 sisimiut\n",
      "28 esperance\n",
      "29 east london\n",
      "30 lufilufi\n",
      "31 rumphi\n",
      "32 dingle\n",
      "33 mataura\n",
      "34 qaanaaq\n",
      "35 atuona\n",
      "36 husavik\n",
      "37 swan hill\n",
      "38 bonavista\n",
      "39 port elizabeth\n",
      "40 canutama\n",
      "41 camacha\n",
      "42 avarua\n",
      "43 kapaa\n",
      "44 kevsala\n",
      "45 kavieng\n",
      "46 manresa\n",
      "47 samusu\n",
      "48 nome\n",
      "49 bethel\n",
      "50 tuatapere\n",
      "51 lat yao\n",
      "52 brownsville\n",
      "53 ewa beach\n",
      "54 albany\n",
      "55 cabo san lucas\n",
      "56 barentsburg\n",
      "57 tasiilaq\n",
      "58 new norfolk\n",
      "59 wulanhaote\n",
      "60 mount hagen\n",
      "61 lebu\n",
      "62 maryville\n",
      "63 severo-kurilsk\n",
      "64 umm kaddadah\n",
      "65 natal\n",
      "66 sao joao da boa vista\n",
      "67 katherine\n",
      "68 jijiga\n",
      "69 tsihombe\n",
      "70 saint-philippe\n",
      "71 guerrero negro\n",
      "72 upernavik\n",
      "73 cape town\n",
      "74 rapar\n",
      "75 grand gaube\n",
      "76 ghamarwin\n",
      "77 touros\n",
      "78 hamilton\n",
      "79 belyy yar\n",
      "80 achisay\n",
      "81 port hedland\n",
      "82 abnub\n",
      "83 jamestown\n",
      "84 hovd\n",
      "85 mahebourg\n",
      "86 los llanos de aridane\n",
      "87 payo\n",
      "88 pisco\n",
      "89 puerto ayora\n",
      "90 shirokiy\n",
      "91 bud\n",
      "92 barrow\n",
      "93 nanortalik\n",
      "94 faanui\n",
      "95 sakakah\n",
      "96 katobu\n",
      "97 termiz\n",
      "98 baymak\n",
      "99 krasnoselkup\n",
      "100 fairbanks\n",
      "101 sitka\n",
      "102 carnarvon\n",
      "103 berlevag\n",
      "104 hilo\n",
      "105 arraial do cabo\n",
      "106 ancud\n",
      "107 tiarei\n",
      "108 tabiauea\n",
      "109 thompson\n",
      "110 esmeraldas\n",
      "111 illoqqortoormiut\n",
      "112 ribeira grande\n",
      "113 abha\n",
      "114 uk\n",
      "115 biak\n",
      "116 grand-lahou\n",
      "117 cidreira\n",
      "118 taltal\n",
      "119 lavrentiya\n",
      "120 gazimagusa\n",
      "121 okhotsk\n",
      "122 dubenskiy\n",
      "123 bandarbeyla\n",
      "124 amderma\n",
      "125 solnechnyy\n",
      "126 aksu\n",
      "127 castro\n",
      "128 trelew\n",
      "129 sistranda\n",
      "130 hithadhoo\n",
      "131 kokopo\n",
      "132 amot\n",
      "133 high rock\n",
      "134 catamarca\n",
      "135 anloga\n",
      "136 kudahuvadhoo\n",
      "137 kadykchan\n",
      "138 kosino\n",
      "139 souillac\n",
      "140 padang\n",
      "141 georgetown\n",
      "142 mount pleasant\n",
      "143 shingu\n",
      "144 yiyang\n",
      "145 celestun\n",
      "146 khatanga\n",
      "147 vestmannaeyjar\n",
      "148 morgantown\n",
      "149 tura\n",
      "150 elmvale\n",
      "151 inirida\n",
      "152 birjand\n",
      "153 wanning\n",
      "154 portoferraio\n",
      "155 chokurdakh\n",
      "156 kahului\n",
      "157 hami\n",
      "158 myrtle beach\n",
      "159 mandera\n",
      "160 gravdal\n",
      "161 ustrzyki dolne\n",
      "162 homer\n",
      "163 batagay\n",
      "164 kieta\n",
      "165 sao joao da barra\n",
      "166 deputatskiy\n",
      "167 roma\n",
      "168 morondava\n",
      "169 san miguelito\n",
      "170 ahipara\n",
      "171 tuktoyaktuk\n",
      "172 salinas\n",
      "173 saldanha\n",
      "174 klaksvik\n",
      "175 yokadouma\n",
      "176 ust-kamchatsk\n",
      "177 victoria\n",
      "178 seguela\n",
      "179 trat\n",
      "180 talnakh\n",
      "181 mandalgovi\n",
      "182 vaitupu\n",
      "183 ilulissat\n",
      "184 shache\n",
      "185 chuy\n",
      "186 griffith\n",
      "187 acapulco\n",
      "188 buala\n",
      "189 coquimbo\n",
      "190 bluff\n",
      "191 saskylakh\n",
      "192 cherskiy\n",
      "193 grand river south east\n",
      "194 kaitangata\n",
      "195 saint george\n",
      "196 bengkulu\n",
      "197 nago\n",
      "198 nantucket\n",
      "199 marsh harbour\n",
      "200 komsomolets\n",
      "201 butaritari\n",
      "202 lorvao\n",
      "203 port augusta\n",
      "204 mys shmidta\n",
      "205 almaty\n",
      "206 noyabrsk\n",
      "207 troitskoye\n",
      "208 melur\n",
      "209 santa maria\n",
      "210 tuy hoa\n",
      "211 benjamin hill\n",
      "212 katsuura\n",
      "213 half moon bay\n",
      "214 wakkanai\n",
      "215 amapa\n",
      "216 am timan\n",
      "217 port hardy\n",
      "218 belushya guba\n",
      "219 marzuq\n",
      "220 fecamp\n",
      "221 evensk\n",
      "222 miri\n",
      "223 bonthe\n",
      "224 ulenje\n",
      "225 simnas\n",
      "226 bubaque\n",
      "227 carlsbad\n",
      "228 charters towers\n",
      "229 saleaula\n",
      "230 rocha\n",
      "231 honiara\n",
      "232 lebowakgomo\n",
      "233 sentyabrskiy\n",
      "234 beloha\n",
      "235 vaini\n",
      "236 dolbeau\n",
      "237 torbay\n",
      "238 takoradi\n",
      "239 tiksi\n",
      "240 narsaq\n",
      "241 ilek\n",
      "242 taihe\n",
      "243 kirakira\n",
      "244 codrington\n",
      "245 karratha\n",
      "246 umzimvubu\n",
      "247 alexandria\n",
      "248 itoman\n",
      "249 port blair\n",
      "250 bathsheba\n",
      "251 mercedes\n",
      "252 lompoc\n",
      "253 isangel\n",
      "254 luderitz\n",
      "255 antalaha\n",
      "256 lasa\n",
      "257 pedernales\n",
      "258 deqing\n",
      "259 namatanai\n",
      "260 preobrazheniye\n",
      "261 fortuna\n",
      "262 nalut\n",
      "263 maceio\n",
      "264 weligama\n",
      "265 mayo\n",
      "266 cockburn town\n",
      "267 mwense\n",
      "268 roebourne\n",
      "269 norman wells\n",
      "270 olafsvik\n",
      "271 adrar\n",
      "272 kodiak\n",
      "273 mecca\n",
      "274 tazovskiy\n",
      "275 broome\n",
      "276 buraydah\n",
      "277 shubarkuduk\n",
      "278 tilichiki\n",
      "279 yanan\n",
      "280 khani\n",
      "281 urbana\n",
      "282 invergordon\n",
      "283 meridian\n",
      "284 omboue\n",
      "285 axim\n",
      "286 poya\n",
      "287 kizema\n",
      "288 yumen\n",
      "289 lorengau\n",
      "290 nacala\n",
      "291 palabuhanratu\n",
      "292 kamskiye polyany\n",
      "293 liverpool\n",
      "294 japura\n",
      "295 rawson\n",
      "296 benjamin constant\n",
      "297 ponta do sol\n",
      "298 mocambique\n",
      "299 gonbad-e qabus\n",
      "300 calama\n",
      "301 pevek\n",
      "302 mokolo\n",
      "303 koungou\n",
      "304 sept-iles\n",
      "305 namibe\n",
      "306 one hundred mile house\n",
      "307 leningradskiy\n",
      "308 halalo\n",
      "309 morgan city\n",
      "310 revda\n",
      "311 hobyo\n",
      "312 zwolle\n",
      "313 dali\n",
      "314 alyangula\n",
      "315 awbari\n",
      "316 port lincoln\n",
      "317 ketchikan\n",
      "318 constitucion\n",
      "319 aguilar de la frontera\n",
      "320 volzhskiy\n",
      "321 svay rieng\n",
      "322 svetlogorsk\n",
      "323 meulaboh\n",
      "324 kapustin yar-1\n",
      "325 salalah\n",
      "326 saint-leu\n",
      "327 chimbote\n",
      "328 rio gallegos\n",
      "329 bjornevatn\n",
      "330 anadyr\n",
      "331 sinnamary\n",
      "332 pingliang\n",
      "333 al\n",
      "334 san vicente\n",
      "335 ismailia\n",
      "336 hofn\n",
      "337 sao gabriel da cachoeira\n",
      "338 eau claire\n",
      "339 misratah\n",
      "340 laukaa\n",
      "341 goderich\n",
      "342 sahrak\n",
      "343 caravelas\n",
      "344 port-gentil\n",
      "345 sioux lookout\n",
      "346 port keats\n",
      "347 richards bay\n",
      "348 luanda\n",
      "349 nicolas bravo\n",
      "350 tumannyy\n",
      "351 puerto madero\n",
      "352 saint anthony\n",
      "353 hurricane\n",
      "354 san patricio\n",
      "355 poronaysk\n",
      "356 boyolangu\n",
      "357 utiroa\n",
      "358 kargasok\n",
      "359 atar\n",
      "360 izhma\n",
      "361 olavarria\n",
      "362 boulsa\n",
      "363 sulangan\n",
      "364 guilin\n",
      "365 surt\n",
      "366 ouro preto do oeste\n",
      "367 constantine\n",
      "368 sobolevo\n",
      "369 manta\n",
      "370 kawalu\n",
      "371 cap malheureux\n",
      "372 mar del plata\n",
      "373 kuytun\n",
      "374 nioro\n",
      "375 conde\n",
      "376 ordu\n",
      "377 latehar\n",
      "378 petropavlovsk-kamchatskiy\n",
      "379 devils lake\n",
      "380 emerald\n",
      "381 saurimo\n",
      "382 baykit\n",
      "383 auki\n",
      "384 portobelo\n",
      "385 alakurtti\n",
      "386 ishigaki\n",
      "387 oktyabrskoye\n",
      "388 aklavik\n",
      "389 jalu\n",
      "390 khonuu\n",
      "391 tessalit\n",
      "392 vestmanna\n",
      "393 duz\n",
      "394 coihaique\n",
      "395 apateu\n",
      "396 rawannawi\n",
      "397 dunedin\n",
      "398 heyang\n",
      "399 kaeo\n",
      "400 gornozavodsk\n",
      "401 aykhal\n",
      "402 mudgal\n",
      "403 redmond\n",
      "404 sorong\n",
      "405 astana\n",
      "406 dukat\n",
      "407 colac\n",
      "408 barybino\n",
      "409 hermiston\n",
      "410 vostok\n",
      "411 galiwinku\n",
      "412 nguiu\n",
      "413 prince george\n",
      "414 bolungarvik\n",
      "415 bethanien\n",
      "416 tutoia\n",
      "417 pochutla\n",
      "418 carutapera\n",
      "419 baruun-urt\n",
      "420 gizo\n",
      "421 chagda\n",
      "422 nador\n",
      "423 paita\n",
      "424 saint-georges\n",
      "425 severodvinsk\n",
      "426 provost\n",
      "427 airai\n",
      "428 san policarpo\n",
      "429 eston\n",
      "430 khorixas\n",
      "431 batticaloa\n",
      "432 puerto del rosario\n",
      "433 challapata\n",
      "434 tasbuget\n",
      "435 kloulklubed\n",
      "436 cuite\n",
      "437 soe\n",
      "438 vanavara\n",
      "439 mimongo\n",
      "440 cartagena del chaira\n",
      "441 hargeysa\n",
      "442 ughelli\n",
      "443 tautira\n",
      "444 kemijarvi\n",
      "445 diu\n",
      "446 andenes\n",
      "447 liberal\n",
      "448 sattenapalle\n",
      "449 mount gambier\n",
      "450 riyadh\n",
      "451 estelle\n",
      "452 kavaratti\n",
      "453 karaton\n",
      "454 pervomayskoye\n",
      "455 ust-kut\n",
      "456 qeshm\n",
      "457 manaus\n",
      "458 comodoro rivadavia\n",
      "459 tongren\n",
      "460 gillette\n",
      "461 ambodifototra\n",
      "462 pionerskiy\n",
      "463 addis abeba\n",
      "464 lamar\n",
      "465 north bend\n",
      "466 lata\n",
      "467 toftir\n",
      "468 yulara\n",
      "469 mutsamudu\n",
      "470 odweyne\n",
      "471 madimba\n",
      "472 portland\n",
      "473 nanakuli\n",
      "474 mokhsogollokh\n",
      "475 baherden\n",
      "476 inhambane\n",
      "477 semey\n",
      "478 laramie\n",
      "479 saharsa\n",
      "480 chulman\n",
      "481 otofuke\n",
      "482 elizabeth city\n",
      "483 imbituba\n",
      "484 khudumelapye\n",
      "485 galdar\n",
      "486 wadi\n",
      "487 sangamner\n",
      "488 motala\n",
      "489 kaa-khem\n",
      "490 shubarshi\n",
      "491 ituni\n",
      "492 edgewater\n",
      "493 linxia\n",
      "494 bauchi\n",
      "495 pandamatenga\n",
      "496 kendari\n",
      "497 kishi\n",
      "498 nizhneyansk\n",
      "499 komsomolskiy\n",
      "500 culebra\n",
      "501 galatas\n",
      "502 erenhot\n",
      "503 laguna\n",
      "504 poum\n",
      "505 kalmunai\n",
      "506 koutsouras\n",
      "507 makubetsu\n",
      "508 san joaquin\n",
      "509 sarkand\n",
      "510 basco\n",
      "511 xiuyan\n",
      "512 lerwick\n",
      "513 yamada\n",
      "514 aksarka\n",
      "515 clyde river\n",
      "516 attawapiskat\n",
      "517 makakilo city\n",
      "518 nelson bay\n",
      "519 mangochi\n",
      "520 bilibino\n",
      "521 thunder bay\n",
      "522 saint-augustin\n",
      "523 shimoda\n",
      "524 aitape\n",
      "525 rabo de peixe\n",
      "526 zhezkazgan\n",
      "527 karamea\n",
      "528 searcy\n",
      "529 bayshore gardens\n",
      "530 lahuachaca\n",
      "531 gigmoto\n",
      "532 lisakovsk\n",
      "533 stavern\n",
      "534 vardo\n",
      "535 yerbogachen\n",
      "536 saint-ambroise\n",
      "537 santiago\n",
      "538 college\n",
      "539 sidi ali\n",
      "540 buchanan\n",
      "541 babanusah\n",
      "542 chapais\n",
      "543 selenduma\n",
      "544 dongsheng\n",
      "545 port macquarie\n",
      "546 kampot\n",
      "547 mackay\n",
      "548 labytnangi\n",
      "549 nioki\n",
      "550 severnyy\n",
      "551 ayutla\n",
      "552 temple\n",
      "553 teguise\n",
      "554 zhigansk\n",
      "555 man\n",
      "556 negele\n",
      "557 marcona\n",
      "558 kibala\n",
      "559 hasaki\n",
      "560 nemuro\n",
      "561 atlantic city\n",
      "562 umm lajj\n",
      "563 wanlaweyn\n",
      "564 harper\n",
      "565 tawnat\n",
      "566 zemio\n",
      "567 burica\n",
      "568 bezenchuk\n",
      "569 shizunai\n",
      "570 maragogi\n",
      "571 luganville\n",
      "572 hihifo\n",
      "573 juneau\n",
      "574 kupino\n",
      "575 nufaru\n",
      "576 cancun\n",
      "577 jardim\n",
      "578 santiago del estero\n",
      "579 acara\n",
      "580 kanashevo\n",
      "581 boromlya\n",
      "582 ardakan\n",
      "583 ostuacan\n",
      "584 vao\n",
      "585 bairiki\n",
      "586 te anau\n",
      "587 elat\n",
      "588 dubbo\n",
      "589 hirara\n",
      "590 quatre cocos\n",
      "591 havoysund\n",
      "592 halifax\n",
      "593 grindavik\n",
      "594 tupik\n",
      "595 zeya\n",
      "596 ormara\n",
      "597 viedma\n",
      "598 laizhou\n",
      "599 sibolga\n",
      "600 tommot\n",
      "601 edd\n",
      "602 bukama\n",
      "603 drayton valley\n",
      "604 wenling\n",
      "605 kathu\n",
      "606 cruden bay\n",
      "607 bijie\n",
      "608 tuensang\n",
      "609 pemangkat\n",
      "610 honghu\n",
      "611 mabaruma\n",
      "612 asfi\n",
      "613 porrentruy\n",
      "614 ambovombe\n",
      "615 alihe\n",
      "616 quthing\n",
      "617 san jose poaquil\n",
      "618 marrakesh\n"
     ]
    }
   ],
   "source": [
    "# List for holding latitudes, temperature, humidity, cloudiness, wind speed\n",
    "# List for countries also included for VacationPy processing\n",
    "citys = []\n",
    "countries = []\n",
    "latitudes = []\n",
    "longitudes = []\n",
    "temps = []\n",
    "humids = []\n",
    "clouds = []\n",
    "winds = []\n",
    "\n",
    "#this counter is used index the city data based on successful calls\n",
    "city_ctr = 0\n",
    "\n",
    "# base URL\n",
    "url = \"http://api.openweathermap.org/data/2.5/weather?units=Imperial&APPID=\" + weather_api_key\n",
    "\n",
    "# loop through the cities list\n",
    "for city in cities:\n",
    "    city_ctr = city_ctr + 1\n",
    "    query_url = url + \"&q=\" + city\n",
    "    print(f\"{city_ctr} {city}\")\n",
    "    # Get weather data\n",
    "    weather_response_json = requests.get(query_url).json()\n",
    "    try:\n",
    "        # extract the data from the API response by appending to the corresponding list variable\n",
    "        citys.append(weather_response_json['name'])\n",
    "        countries.append(weather_response_json['sys']['country'])\n",
    "        latitudes.append(weather_response_json['coord']['lat'])\n",
    "        longitudes.append(weather_response_json['coord']['lon'])\n",
    "        temps.append(weather_response_json['main']['temp_max'])\n",
    "        humids.append(weather_response_json['main']['humidity'])\n",
    "        clouds.append(weather_response_json['clouds']['all'])\n",
    "        winds.append(weather_response_json['wind']['speed'])\n",
    "    except:\n",
    "        # skip the city if not found\n",
    "        pass"
   ]
  },
  {
   "cell_type": "markdown",
   "metadata": {},
   "source": [
    "### Convert Raw Data to DataFrame\n",
    "* Export the city data into a .csv.\n",
    "* Display the DataFrame"
   ]
  },
  {
   "cell_type": "code",
   "execution_count": 5,
   "metadata": {},
   "outputs": [
    {
     "data": {
      "text/html": [
       "<div>\n",
       "<style scoped>\n",
       "    .dataframe tbody tr th:only-of-type {\n",
       "        vertical-align: middle;\n",
       "    }\n",
       "\n",
       "    .dataframe tbody tr th {\n",
       "        vertical-align: top;\n",
       "    }\n",
       "\n",
       "    .dataframe thead th {\n",
       "        text-align: right;\n",
       "    }\n",
       "</style>\n",
       "<table border=\"1\" class=\"dataframe\">\n",
       "  <thead>\n",
       "    <tr style=\"text-align: right;\">\n",
       "      <th></th>\n",
       "      <th>city</th>\n",
       "      <th>country</th>\n",
       "      <th>latitude</th>\n",
       "      <th>longitude</th>\n",
       "      <th>temp</th>\n",
       "      <th>humid</th>\n",
       "      <th>cloud</th>\n",
       "      <th>wind</th>\n",
       "    </tr>\n",
       "  </thead>\n",
       "  <tbody>\n",
       "    <tr>\n",
       "      <th>0</th>\n",
       "      <td>Bambous Virieux</td>\n",
       "      <td>MU</td>\n",
       "      <td>-20.34</td>\n",
       "      <td>57.76</td>\n",
       "      <td>77.00</td>\n",
       "      <td>65</td>\n",
       "      <td>75</td>\n",
       "      <td>12.75</td>\n",
       "    </tr>\n",
       "    <tr>\n",
       "      <th>1</th>\n",
       "      <td>Machilipatnam</td>\n",
       "      <td>IN</td>\n",
       "      <td>16.17</td>\n",
       "      <td>81.13</td>\n",
       "      <td>89.60</td>\n",
       "      <td>70</td>\n",
       "      <td>75</td>\n",
       "      <td>5.82</td>\n",
       "    </tr>\n",
       "    <tr>\n",
       "      <th>2</th>\n",
       "      <td>Rikitea</td>\n",
       "      <td>PF</td>\n",
       "      <td>-23.12</td>\n",
       "      <td>-134.97</td>\n",
       "      <td>72.73</td>\n",
       "      <td>87</td>\n",
       "      <td>100</td>\n",
       "      <td>15.70</td>\n",
       "    </tr>\n",
       "    <tr>\n",
       "      <th>3</th>\n",
       "      <td>Casper</td>\n",
       "      <td>US</td>\n",
       "      <td>42.87</td>\n",
       "      <td>-106.31</td>\n",
       "      <td>62.01</td>\n",
       "      <td>82</td>\n",
       "      <td>20</td>\n",
       "      <td>5.82</td>\n",
       "    </tr>\n",
       "    <tr>\n",
       "      <th>4</th>\n",
       "      <td>Ushuaia</td>\n",
       "      <td>AR</td>\n",
       "      <td>-54.80</td>\n",
       "      <td>-68.30</td>\n",
       "      <td>33.80</td>\n",
       "      <td>69</td>\n",
       "      <td>40</td>\n",
       "      <td>8.05</td>\n",
       "    </tr>\n",
       "    <tr>\n",
       "      <th>...</th>\n",
       "      <td>...</td>\n",
       "      <td>...</td>\n",
       "      <td>...</td>\n",
       "      <td>...</td>\n",
       "      <td>...</td>\n",
       "      <td>...</td>\n",
       "      <td>...</td>\n",
       "      <td>...</td>\n",
       "    </tr>\n",
       "    <tr>\n",
       "      <th>558</th>\n",
       "      <td>Ambovombe</td>\n",
       "      <td>MG</td>\n",
       "      <td>-25.17</td>\n",
       "      <td>46.08</td>\n",
       "      <td>77.09</td>\n",
       "      <td>46</td>\n",
       "      <td>0</td>\n",
       "      <td>9.78</td>\n",
       "    </tr>\n",
       "    <tr>\n",
       "      <th>559</th>\n",
       "      <td>Alihe</td>\n",
       "      <td>CN</td>\n",
       "      <td>50.57</td>\n",
       "      <td>123.72</td>\n",
       "      <td>78.08</td>\n",
       "      <td>65</td>\n",
       "      <td>70</td>\n",
       "      <td>4.12</td>\n",
       "    </tr>\n",
       "    <tr>\n",
       "      <th>560</th>\n",
       "      <td>Quthing</td>\n",
       "      <td>LS</td>\n",
       "      <td>-30.40</td>\n",
       "      <td>27.70</td>\n",
       "      <td>56.01</td>\n",
       "      <td>35</td>\n",
       "      <td>0</td>\n",
       "      <td>3.51</td>\n",
       "    </tr>\n",
       "    <tr>\n",
       "      <th>561</th>\n",
       "      <td>San José Poaquil</td>\n",
       "      <td>GT</td>\n",
       "      <td>14.82</td>\n",
       "      <td>-90.91</td>\n",
       "      <td>64.40</td>\n",
       "      <td>93</td>\n",
       "      <td>40</td>\n",
       "      <td>9.17</td>\n",
       "    </tr>\n",
       "    <tr>\n",
       "      <th>562</th>\n",
       "      <td>Marrakesh</td>\n",
       "      <td>MA</td>\n",
       "      <td>31.63</td>\n",
       "      <td>-8.01</td>\n",
       "      <td>78.80</td>\n",
       "      <td>61</td>\n",
       "      <td>40</td>\n",
       "      <td>2.24</td>\n",
       "    </tr>\n",
       "  </tbody>\n",
       "</table>\n",
       "<p>563 rows × 8 columns</p>\n",
       "</div>"
      ],
      "text/plain": [
       "                 city country  latitude  longitude   temp  humid  cloud   wind\n",
       "0     Bambous Virieux      MU    -20.34      57.76  77.00     65     75  12.75\n",
       "1       Machilipatnam      IN     16.17      81.13  89.60     70     75   5.82\n",
       "2             Rikitea      PF    -23.12    -134.97  72.73     87    100  15.70\n",
       "3              Casper      US     42.87    -106.31  62.01     82     20   5.82\n",
       "4             Ushuaia      AR    -54.80     -68.30  33.80     69     40   8.05\n",
       "..                ...     ...       ...        ...    ...    ...    ...    ...\n",
       "558         Ambovombe      MG    -25.17      46.08  77.09     46      0   9.78\n",
       "559             Alihe      CN     50.57     123.72  78.08     65     70   4.12\n",
       "560           Quthing      LS    -30.40      27.70  56.01     35      0   3.51\n",
       "561  San José Poaquil      GT     14.82     -90.91  64.40     93     40   9.17\n",
       "562         Marrakesh      MA     31.63      -8.01  78.80     61     40   2.24\n",
       "\n",
       "[563 rows x 8 columns]"
      ]
     },
     "execution_count": 5,
     "metadata": {},
     "output_type": "execute_result"
    }
   ],
   "source": [
    "# create a dictionary to contain all the list variables\n",
    "weather_dict = {\n",
    "    \"city\": citys,\n",
    "    \"country\": countries,    \n",
    "    \"latitude\": latitudes,\n",
    "    \"longitude\": longitudes,\n",
    "    \"temp\": temps,\n",
    "    \"humid\": humids,\n",
    "    \"cloud\": clouds,\n",
    "    \"wind\": winds\n",
    "}\n",
    "\n",
    "# convert the dictionary into a dataframe\n",
    "weather_data_df = pd.DataFrame(weather_dict)\n",
    "weather_data_df"
   ]
  },
  {
   "cell_type": "code",
   "execution_count": 6,
   "metadata": {},
   "outputs": [],
   "source": [
    "# write dataframe into a CSV file\n",
    "weather_data_df.to_csv(output_data_file, index = False)"
   ]
  },
  {
   "cell_type": "markdown",
   "metadata": {},
   "source": [
    "## Inspect the data and remove the cities where the humidity > 100%.\n",
    "----\n",
    "Skip this step if there are no cities that have humidity > 100%. "
   ]
  },
  {
   "cell_type": "code",
   "execution_count": 7,
   "metadata": {},
   "outputs": [
    {
     "data": {
      "text/html": [
       "<div>\n",
       "<style scoped>\n",
       "    .dataframe tbody tr th:only-of-type {\n",
       "        vertical-align: middle;\n",
       "    }\n",
       "\n",
       "    .dataframe tbody tr th {\n",
       "        vertical-align: top;\n",
       "    }\n",
       "\n",
       "    .dataframe thead th {\n",
       "        text-align: right;\n",
       "    }\n",
       "</style>\n",
       "<table border=\"1\" class=\"dataframe\">\n",
       "  <thead>\n",
       "    <tr style=\"text-align: right;\">\n",
       "      <th></th>\n",
       "      <th>city</th>\n",
       "      <th>country</th>\n",
       "      <th>latitude</th>\n",
       "      <th>longitude</th>\n",
       "      <th>temp</th>\n",
       "      <th>humid</th>\n",
       "      <th>cloud</th>\n",
       "      <th>wind</th>\n",
       "    </tr>\n",
       "  </thead>\n",
       "  <tbody>\n",
       "    <tr>\n",
       "      <th>0</th>\n",
       "      <td>Bambous Virieux</td>\n",
       "      <td>MU</td>\n",
       "      <td>-20.34</td>\n",
       "      <td>57.76</td>\n",
       "      <td>77.00</td>\n",
       "      <td>65</td>\n",
       "      <td>75</td>\n",
       "      <td>12.75</td>\n",
       "    </tr>\n",
       "    <tr>\n",
       "      <th>1</th>\n",
       "      <td>Machilipatnam</td>\n",
       "      <td>IN</td>\n",
       "      <td>16.17</td>\n",
       "      <td>81.13</td>\n",
       "      <td>89.60</td>\n",
       "      <td>70</td>\n",
       "      <td>75</td>\n",
       "      <td>5.82</td>\n",
       "    </tr>\n",
       "    <tr>\n",
       "      <th>2</th>\n",
       "      <td>Rikitea</td>\n",
       "      <td>PF</td>\n",
       "      <td>-23.12</td>\n",
       "      <td>-134.97</td>\n",
       "      <td>72.73</td>\n",
       "      <td>87</td>\n",
       "      <td>100</td>\n",
       "      <td>15.70</td>\n",
       "    </tr>\n",
       "    <tr>\n",
       "      <th>3</th>\n",
       "      <td>Casper</td>\n",
       "      <td>US</td>\n",
       "      <td>42.87</td>\n",
       "      <td>-106.31</td>\n",
       "      <td>62.01</td>\n",
       "      <td>82</td>\n",
       "      <td>20</td>\n",
       "      <td>5.82</td>\n",
       "    </tr>\n",
       "    <tr>\n",
       "      <th>4</th>\n",
       "      <td>Ushuaia</td>\n",
       "      <td>AR</td>\n",
       "      <td>-54.80</td>\n",
       "      <td>-68.30</td>\n",
       "      <td>33.80</td>\n",
       "      <td>69</td>\n",
       "      <td>40</td>\n",
       "      <td>8.05</td>\n",
       "    </tr>\n",
       "    <tr>\n",
       "      <th>...</th>\n",
       "      <td>...</td>\n",
       "      <td>...</td>\n",
       "      <td>...</td>\n",
       "      <td>...</td>\n",
       "      <td>...</td>\n",
       "      <td>...</td>\n",
       "      <td>...</td>\n",
       "      <td>...</td>\n",
       "    </tr>\n",
       "    <tr>\n",
       "      <th>558</th>\n",
       "      <td>Ambovombe</td>\n",
       "      <td>MG</td>\n",
       "      <td>-25.17</td>\n",
       "      <td>46.08</td>\n",
       "      <td>77.09</td>\n",
       "      <td>46</td>\n",
       "      <td>0</td>\n",
       "      <td>9.78</td>\n",
       "    </tr>\n",
       "    <tr>\n",
       "      <th>559</th>\n",
       "      <td>Alihe</td>\n",
       "      <td>CN</td>\n",
       "      <td>50.57</td>\n",
       "      <td>123.72</td>\n",
       "      <td>78.08</td>\n",
       "      <td>65</td>\n",
       "      <td>70</td>\n",
       "      <td>4.12</td>\n",
       "    </tr>\n",
       "    <tr>\n",
       "      <th>560</th>\n",
       "      <td>Quthing</td>\n",
       "      <td>LS</td>\n",
       "      <td>-30.40</td>\n",
       "      <td>27.70</td>\n",
       "      <td>56.01</td>\n",
       "      <td>35</td>\n",
       "      <td>0</td>\n",
       "      <td>3.51</td>\n",
       "    </tr>\n",
       "    <tr>\n",
       "      <th>561</th>\n",
       "      <td>San José Poaquil</td>\n",
       "      <td>GT</td>\n",
       "      <td>14.82</td>\n",
       "      <td>-90.91</td>\n",
       "      <td>64.40</td>\n",
       "      <td>93</td>\n",
       "      <td>40</td>\n",
       "      <td>9.17</td>\n",
       "    </tr>\n",
       "    <tr>\n",
       "      <th>562</th>\n",
       "      <td>Marrakesh</td>\n",
       "      <td>MA</td>\n",
       "      <td>31.63</td>\n",
       "      <td>-8.01</td>\n",
       "      <td>78.80</td>\n",
       "      <td>61</td>\n",
       "      <td>40</td>\n",
       "      <td>2.24</td>\n",
       "    </tr>\n",
       "  </tbody>\n",
       "</table>\n",
       "<p>563 rows × 8 columns</p>\n",
       "</div>"
      ],
      "text/plain": [
       "                 city country  latitude  longitude   temp  humid  cloud   wind\n",
       "0     Bambous Virieux      MU    -20.34      57.76  77.00     65     75  12.75\n",
       "1       Machilipatnam      IN     16.17      81.13  89.60     70     75   5.82\n",
       "2             Rikitea      PF    -23.12    -134.97  72.73     87    100  15.70\n",
       "3              Casper      US     42.87    -106.31  62.01     82     20   5.82\n",
       "4             Ushuaia      AR    -54.80     -68.30  33.80     69     40   8.05\n",
       "..                ...     ...       ...        ...    ...    ...    ...    ...\n",
       "558         Ambovombe      MG    -25.17      46.08  77.09     46      0   9.78\n",
       "559             Alihe      CN     50.57     123.72  78.08     65     70   4.12\n",
       "560           Quthing      LS    -30.40      27.70  56.01     35      0   3.51\n",
       "561  San José Poaquil      GT     14.82     -90.91  64.40     93     40   9.17\n",
       "562         Marrakesh      MA     31.63      -8.01  78.80     61     40   2.24\n",
       "\n",
       "[563 rows x 8 columns]"
      ]
     },
     "execution_count": 7,
     "metadata": {},
     "output_type": "execute_result"
    }
   ],
   "source": [
    "humidity_lessthan_100_df = weather_data_df[weather_data_df[\"humid\"].astype(float) <= 100]\n",
    "humidity_lessthan_100_df"
   ]
  },
  {
   "cell_type": "code",
   "execution_count": 8,
   "metadata": {},
   "outputs": [
    {
     "data": {
      "text/plain": [
       "array([], dtype=int64)"
      ]
     },
     "execution_count": 8,
     "metadata": {},
     "output_type": "execute_result"
    }
   ],
   "source": [
    "#  Get the indices of cities that have humidity over 100%.\n",
    "humidity_over_100_df = weather_data_df[weather_data_df[\"humid\"].astype(float) > 100]\n",
    "humidity_over_100_df.index.values"
   ]
  },
  {
   "cell_type": "code",
   "execution_count": 9,
   "metadata": {},
   "outputs": [
    {
     "data": {
      "text/html": [
       "<div>\n",
       "<style scoped>\n",
       "    .dataframe tbody tr th:only-of-type {\n",
       "        vertical-align: middle;\n",
       "    }\n",
       "\n",
       "    .dataframe tbody tr th {\n",
       "        vertical-align: top;\n",
       "    }\n",
       "\n",
       "    .dataframe thead th {\n",
       "        text-align: right;\n",
       "    }\n",
       "</style>\n",
       "<table border=\"1\" class=\"dataframe\">\n",
       "  <thead>\n",
       "    <tr style=\"text-align: right;\">\n",
       "      <th></th>\n",
       "      <th>city</th>\n",
       "      <th>country</th>\n",
       "      <th>latitude</th>\n",
       "      <th>longitude</th>\n",
       "      <th>temp</th>\n",
       "      <th>humid</th>\n",
       "      <th>cloud</th>\n",
       "      <th>wind</th>\n",
       "    </tr>\n",
       "  </thead>\n",
       "  <tbody>\n",
       "    <tr>\n",
       "      <th>0</th>\n",
       "      <td>Bambous Virieux</td>\n",
       "      <td>MU</td>\n",
       "      <td>-20.34</td>\n",
       "      <td>57.76</td>\n",
       "      <td>77.00</td>\n",
       "      <td>65</td>\n",
       "      <td>75</td>\n",
       "      <td>12.75</td>\n",
       "    </tr>\n",
       "    <tr>\n",
       "      <th>1</th>\n",
       "      <td>Machilipatnam</td>\n",
       "      <td>IN</td>\n",
       "      <td>16.17</td>\n",
       "      <td>81.13</td>\n",
       "      <td>89.60</td>\n",
       "      <td>70</td>\n",
       "      <td>75</td>\n",
       "      <td>5.82</td>\n",
       "    </tr>\n",
       "    <tr>\n",
       "      <th>2</th>\n",
       "      <td>Rikitea</td>\n",
       "      <td>PF</td>\n",
       "      <td>-23.12</td>\n",
       "      <td>-134.97</td>\n",
       "      <td>72.73</td>\n",
       "      <td>87</td>\n",
       "      <td>100</td>\n",
       "      <td>15.70</td>\n",
       "    </tr>\n",
       "    <tr>\n",
       "      <th>3</th>\n",
       "      <td>Casper</td>\n",
       "      <td>US</td>\n",
       "      <td>42.87</td>\n",
       "      <td>-106.31</td>\n",
       "      <td>62.01</td>\n",
       "      <td>82</td>\n",
       "      <td>20</td>\n",
       "      <td>5.82</td>\n",
       "    </tr>\n",
       "    <tr>\n",
       "      <th>4</th>\n",
       "      <td>Ushuaia</td>\n",
       "      <td>AR</td>\n",
       "      <td>-54.80</td>\n",
       "      <td>-68.30</td>\n",
       "      <td>33.80</td>\n",
       "      <td>69</td>\n",
       "      <td>40</td>\n",
       "      <td>8.05</td>\n",
       "    </tr>\n",
       "    <tr>\n",
       "      <th>...</th>\n",
       "      <td>...</td>\n",
       "      <td>...</td>\n",
       "      <td>...</td>\n",
       "      <td>...</td>\n",
       "      <td>...</td>\n",
       "      <td>...</td>\n",
       "      <td>...</td>\n",
       "      <td>...</td>\n",
       "    </tr>\n",
       "    <tr>\n",
       "      <th>558</th>\n",
       "      <td>Ambovombe</td>\n",
       "      <td>MG</td>\n",
       "      <td>-25.17</td>\n",
       "      <td>46.08</td>\n",
       "      <td>77.09</td>\n",
       "      <td>46</td>\n",
       "      <td>0</td>\n",
       "      <td>9.78</td>\n",
       "    </tr>\n",
       "    <tr>\n",
       "      <th>559</th>\n",
       "      <td>Alihe</td>\n",
       "      <td>CN</td>\n",
       "      <td>50.57</td>\n",
       "      <td>123.72</td>\n",
       "      <td>78.08</td>\n",
       "      <td>65</td>\n",
       "      <td>70</td>\n",
       "      <td>4.12</td>\n",
       "    </tr>\n",
       "    <tr>\n",
       "      <th>560</th>\n",
       "      <td>Quthing</td>\n",
       "      <td>LS</td>\n",
       "      <td>-30.40</td>\n",
       "      <td>27.70</td>\n",
       "      <td>56.01</td>\n",
       "      <td>35</td>\n",
       "      <td>0</td>\n",
       "      <td>3.51</td>\n",
       "    </tr>\n",
       "    <tr>\n",
       "      <th>561</th>\n",
       "      <td>San José Poaquil</td>\n",
       "      <td>GT</td>\n",
       "      <td>14.82</td>\n",
       "      <td>-90.91</td>\n",
       "      <td>64.40</td>\n",
       "      <td>93</td>\n",
       "      <td>40</td>\n",
       "      <td>9.17</td>\n",
       "    </tr>\n",
       "    <tr>\n",
       "      <th>562</th>\n",
       "      <td>Marrakesh</td>\n",
       "      <td>MA</td>\n",
       "      <td>31.63</td>\n",
       "      <td>-8.01</td>\n",
       "      <td>78.80</td>\n",
       "      <td>61</td>\n",
       "      <td>40</td>\n",
       "      <td>2.24</td>\n",
       "    </tr>\n",
       "  </tbody>\n",
       "</table>\n",
       "<p>563 rows × 8 columns</p>\n",
       "</div>"
      ],
      "text/plain": [
       "                 city country  latitude  longitude   temp  humid  cloud   wind\n",
       "0     Bambous Virieux      MU    -20.34      57.76  77.00     65     75  12.75\n",
       "1       Machilipatnam      IN     16.17      81.13  89.60     70     75   5.82\n",
       "2             Rikitea      PF    -23.12    -134.97  72.73     87    100  15.70\n",
       "3              Casper      US     42.87    -106.31  62.01     82     20   5.82\n",
       "4             Ushuaia      AR    -54.80     -68.30  33.80     69     40   8.05\n",
       "..                ...     ...       ...        ...    ...    ...    ...    ...\n",
       "558         Ambovombe      MG    -25.17      46.08  77.09     46      0   9.78\n",
       "559             Alihe      CN     50.57     123.72  78.08     65     70   4.12\n",
       "560           Quthing      LS    -30.40      27.70  56.01     35      0   3.51\n",
       "561  San José Poaquil      GT     14.82     -90.91  64.40     93     40   9.17\n",
       "562         Marrakesh      MA     31.63      -8.01  78.80     61     40   2.24\n",
       "\n",
       "[563 rows x 8 columns]"
      ]
     },
     "execution_count": 9,
     "metadata": {},
     "output_type": "execute_result"
    }
   ],
   "source": [
    "# Make a new DataFrame equal to the city data to drop all humidity outliers by index.\n",
    "# Passing \"inplace=False\" will make a copy of the city_data DataFrame, which we call \"clean_city_data\".\n",
    "clean_city_data_df = weather_data_df.drop(humidity_over_100_df.index.values, inplace=False)\n",
    "clean_city_data_df"
   ]
  },
  {
   "cell_type": "code",
   "execution_count": 11,
   "metadata": {},
   "outputs": [],
   "source": [
    "# Extract relevant fields from the data frame\n",
    "clean_city_data = clean_city_data_df[[\"city\",\"country\",\"latitude\",\"longitude\",\"temp\",\"humid\",\"cloud\",\"wind\"]]\n",
    "\n",
    "# Export the City_Data into a CSV\n",
    "clean_city_data.to_csv(clean_city_data_file, index = False)"
   ]
  },
  {
   "cell_type": "markdown",
   "metadata": {},
   "source": [
    "## Plotting the Data\n",
    "* Use proper labeling of the plots using plot titles (including date of analysis) and axes labels.\n",
    "* Save the plotted figures as .pngs."
   ]
  },
  {
   "cell_type": "markdown",
   "metadata": {},
   "source": [
    "## Latitude vs. Temperature Plot"
   ]
  },
  {
   "cell_type": "code",
   "execution_count": 12,
   "metadata": {},
   "outputs": [
    {
     "name": "stdout",
     "output_type": "stream",
     "text": [
      "currentdate_mmddyy_format = 07/30/20\n"
     ]
    }
   ],
   "source": [
    "# compute for the current date and convert into mm/dd/yy format\n",
    "from datetime import date\n",
    "\n",
    "today = date.today()\n",
    "\n",
    "currentdate_mmddyy_format = today.strftime(\"%m/%d/%y\")\n",
    "print(\"currentdate_mmddyy_format =\", currentdate_mmddyy_format)"
   ]
  },
  {
   "cell_type": "code",
   "execution_count": 13,
   "metadata": {},
   "outputs": [],
   "source": [
    "# store dataframe columns into lists for plotting\n",
    "clean_latitudes = clean_city_data_df[\"latitude\"]\n",
    "clean_temps = clean_city_data_df[\"temp\"]\n",
    "clean_humids = clean_city_data_df[\"humid\"]\n",
    "clean_clouds = clean_city_data_df[\"cloud\"]\n",
    "clean_winds = clean_city_data_df[\"wind\"]"
   ]
  },
  {
   "cell_type": "code",
   "execution_count": 14,
   "metadata": {
    "scrolled": true
   },
   "outputs": [
    {
     "data": {
      "image/png": "[encoded data removed]",
      "text/plain": [
       "<Figure size 432x288 with 1 Axes>"
      ]
     },
     "metadata": {
      "needs_background": "light"
     },
     "output_type": "display_data"
    }
   ],
   "source": [
    "# scatter plot graph of City Latitude vs Max Temperature\n",
    "plt.scatter(clean_latitudes, clean_temps, marker=\"o\", edgecolors=\"black\")\n",
    "plt.grid(True)\n",
    "plt.title(f\"City Latitude vs Max Temperature {currentdate_mmddyy_format}\")\n",
    "plt.xlabel(\"Latitude\")\n",
    "plt.ylabel(\"Max Temperature (°F)\")\n",
    "\n",
    "plt.savefig(\"Images/City Latitude vs Max Temperature.png\")\n",
    "plt.show()"
   ]
  },
  {
   "cell_type": "markdown",
   "metadata": {},
   "source": [
    "## Latitude vs. Humidity Plot"
   ]
  },
  {
   "cell_type": "code",
   "execution_count": 18,
   "metadata": {},
   "outputs": [
    {
     "data": {
      "image/png": "[encoded data removed]",
      "text/plain": [
       "<Figure size 432x288 with 1 Axes>"
      ]
     },
     "metadata": {
      "needs_background": "light"
     },
     "output_type": "display_data"
    }
   ],
   "source": [
    "# scatter plot graph of City Latitude vs Humidity \n",
    "plt.scatter(clean_latitudes, clean_humids, marker=\"o\", edgecolors=\"black\")\n",
    "plt.grid(True)\n",
    "plt.title(f\"City Latitude vs Humidity {currentdate_mmddyy_format}\")\n",
    "plt.xlabel(\"Latitude\")\n",
    "plt.ylabel(\"Humidity (%)\")\n",
    "\n",
    "plt.savefig(\"Images/City Latitude vs Humidity.png\")\n",
    "plt.show()"
   ]
  },
  {
   "cell_type": "markdown",
   "metadata": {},
   "source": [
    "## Latitude vs. Cloudiness Plot"
   ]
  },
  {
   "cell_type": "code",
   "execution_count": 19,
   "metadata": {},
   "outputs": [
    {
     "data": {
      "image/png": "[encoded data removed]",
      "text/plain": [
       "<Figure size 432x288 with 1 Axes>"
      ]
     },
     "metadata": {
      "needs_background": "light"
     },
     "output_type": "display_data"
    }
   ],
   "source": [
    "# scatter plot graph of City Latitude vs Cloudiness \n",
    "plt.scatter(clean_latitudes, clean_clouds, marker=\"o\", edgecolors=\"black\")\n",
    "plt.grid(True)\n",
    "plt.title(f\"City Latitude vs Cloudiness {currentdate_mmddyy_format}\")\n",
    "plt.xlabel(\"Latitude\")\n",
    "plt.ylabel(\"Cloudiness (%)\")\n",
    "\n",
    "plt.savefig(\"Images/City Latitude vs Cloudiness.png\")\n",
    "plt.show()"
   ]
  },
  {
   "cell_type": "markdown",
   "metadata": {},
   "source": [
    "## Latitude vs. Wind Speed Plot"
   ]
  },
  {
   "cell_type": "code",
   "execution_count": 20,
   "metadata": {},
   "outputs": [
    {
     "data": {
      "image/png": "[encoded data removed]",
      "text/plain": [
       "<Figure size 432x288 with 1 Axes>"
      ]
     },
     "metadata": {
      "needs_background": "light"
     },
     "output_type": "display_data"
    }
   ],
   "source": [
    "# scatter plot graph of City Latitude vs Wind Speed \n",
    "plt.scatter(clean_latitudes, clean_winds, marker=\"o\", edgecolors=\"black\")\n",
    "plt.grid(True)\n",
    "plt.title(f\"City Latitude vs Wind Speed {currentdate_mmddyy_format}\")\n",
    "plt.xlabel(\"Latitude\")\n",
    "plt.ylabel(\"Wind Speed (mph)\")\n",
    "\n",
    "plt.savefig(\"Images/City Latitude vs Wind Speed.png\")\n",
    "plt.show()"
   ]
  },
  {
   "cell_type": "markdown",
   "metadata": {},
   "source": [
    "## Linear Regression"
   ]
  },
  {
   "cell_type": "code",
   "execution_count": 21,
   "metadata": {},
   "outputs": [],
   "source": [
    "# OPTIONAL: Create a function to create Linear Regression plots"
   ]
  },
  {
   "cell_type": "code",
   "execution_count": 22,
   "metadata": {},
   "outputs": [],
   "source": [
    "# create Northern and Southern Hemisphere dataFrames\n",
    "north_hem_weather_data_df = clean_city_data_df[clean_city_data_df[\"latitude\"].astype(float) >= 0]\n",
    "south_hem_weather_data_df = clean_city_data_df[clean_city_data_df[\"latitude\"].astype(float) < 0]"
   ]
  },
  {
   "cell_type": "markdown",
   "metadata": {},
   "source": [
    "####  Northern Hemisphere - Max Temp vs. Latitude Linear Regression"
   ]
  },
  {
   "cell_type": "code",
   "execution_count": 23,
   "metadata": {},
   "outputs": [
    {
     "data": {
      "image/png": "[encoded data removed]",
      "text/plain": [
       "<Figure size 432x288 with 1 Axes>"
      ]
     },
     "metadata": {
      "needs_background": "light"
     },
     "output_type": "display_data"
    }
   ],
   "source": [
    "x_values = north_hem_weather_data_df[\"latitude\"]\n",
    "y_values = north_hem_weather_data_df[\"temp\"]\n",
    "(slope, intercept, rvalue, pvalue, stderr) = linregress(x_values, y_values)\n",
    "regress_values = x_values * slope + intercept\n",
    "line_eq = \"y = \" + str(round(slope,2)) + \"x + \" + str(round(intercept,2))\n",
    "plt.scatter(x_values,y_values)\n",
    "plt.plot(x_values,regress_values,\"r-\")\n",
    "plt.annotate(line_eq,(min(x_values),min(y_values)),fontsize=15,color=\"red\")\n",
    "\n",
    "plt.title(f\"Northern Hemisphere Latitude vs Max Temperature {currentdate_mmddyy_format}\")\n",
    "plt.xlabel('Latitude')\n",
    "plt.ylabel('Max Temperature (°F)')\n",
    "\n",
    "plt.show()"
   ]
  },
  {
   "cell_type": "markdown",
   "metadata": {},
   "source": [
    "This figure shows that the higher the latitude, the lower the temperature.\n",
    "Lower latitudes in the Northern Hemisphere are closer to the equator, therefore the temperature is hotter.\n",
    "\n"
   ]
  },
  {
   "cell_type": "markdown",
   "metadata": {},
   "source": [
    "####  Southern Hemisphere - Max Temp vs. Latitude Linear Regression"
   ]
  },
  {
   "cell_type": "code",
   "execution_count": 24,
   "metadata": {},
   "outputs": [
    {
     "data": {
      "image/png": "[encoded data removed]",
      "text/plain": [
       "<Figure size 432x288 with 1 Axes>"
      ]
     },
     "metadata": {
      "needs_background": "light"
     },
     "output_type": "display_data"
    }
   ],
   "source": [
    "x_values = south_hem_weather_data_df[\"latitude\"]\n",
    "y_values = south_hem_weather_data_df[\"temp\"]\n",
    "(slope, intercept, rvalue, pvalue, stderr) = linregress(x_values, y_values)\n",
    "regress_values = x_values * slope + intercept\n",
    "line_eq = \"y = \" + str(round(slope,2)) + \"x + \" + str(round(intercept,2))\n",
    "plt.scatter(x_values,y_values)\n",
    "plt.plot(x_values,regress_values,\"r-\")\n",
    "plt.annotate(line_eq,(min(x_values),min(y_values)),fontsize=15,color=\"red\")\n",
    "\n",
    "plt.title(f\"Southern Hemisphere Latitude vs Max Temperature {currentdate_mmddyy_format}\")\n",
    "plt.xlabel('Latitude')\n",
    "plt.ylabel('Max Temperature (°F)')\n",
    "\n",
    "plt.show()"
   ]
  },
  {
   "cell_type": "markdown",
   "metadata": {},
   "source": [
    "This figure shows that the higher the latitude, the higher the temperature.\n",
    "Lower latitudes in the Southern Hemisphere are closer to the South Pole, therefore the temperature is colder.\n",
    "\n"
   ]
  },
  {
   "cell_type": "markdown",
   "metadata": {},
   "source": [
    "####  Northern Hemisphere - Humidity (%) vs. Latitude Linear Regression"
   ]
  },
  {
   "cell_type": "code",
   "execution_count": 25,
   "metadata": {},
   "outputs": [
    {
     "data": {
      "image/png": "[encoded data removed]",
      "text/plain": [
       "<Figure size 432x288 with 1 Axes>"
      ]
     },
     "metadata": {
      "needs_background": "light"
     },
     "output_type": "display_data"
    }
   ],
   "source": [
    "x_values = north_hem_weather_data_df[\"latitude\"]\n",
    "y_values = north_hem_weather_data_df[\"humid\"]\n",
    "(slope, intercept, rvalue, pvalue, stderr) = linregress(x_values, y_values)\n",
    "regress_values = x_values * slope + intercept\n",
    "line_eq = \"y = \" + str(round(slope,2)) + \"x + \" + str(round(intercept,2))\n",
    "plt.scatter(x_values,y_values)\n",
    "plt.plot(x_values,regress_values,\"r-\")\n",
    "plt.annotate(line_eq,(min(x_values),min(y_values)),fontsize=15,color=\"red\")\n",
    "\n",
    "plt.title(f\"Northern Hemisphere Latitude vs Humidity {currentdate_mmddyy_format}\")\n",
    "plt.xlabel('Latitude')\n",
    "plt.ylabel('Humidity (%)')\n",
    "\n",
    "plt.show()"
   ]
  },
  {
   "cell_type": "markdown",
   "metadata": {},
   "source": [
    "In the Northern Hemisphere, it is observed that there is a wide range of humidity in lower and higher latitudes.\n",
    "Middle latitudes (30 to 50), however, have wider range, which are more on the lower humidity level.\n",
    " \n"
   ]
  },
  {
   "cell_type": "markdown",
   "metadata": {},
   "source": [
    "####  Southern Hemisphere - Humidity (%) vs. Latitude Linear Regression"
   ]
  },
  {
   "cell_type": "code",
   "execution_count": 26,
   "metadata": {},
   "outputs": [
    {
     "data": {
      "image/png": "[encoded data removed]",
      "text/plain": [
       "<Figure size 432x288 with 1 Axes>"
      ]
     },
     "metadata": {
      "needs_background": "light"
     },
     "output_type": "display_data"
    }
   ],
   "source": [
    "x_values = south_hem_weather_data_df[\"latitude\"]\n",
    "y_values = south_hem_weather_data_df[\"humid\"]\n",
    "(slope, intercept, rvalue, pvalue, stderr) = linregress(x_values, y_values)\n",
    "regress_values = x_values * slope + intercept\n",
    "line_eq = \"y = \" + str(round(slope,2)) + \"x + \" + str(round(intercept,2))\n",
    "plt.scatter(x_values,y_values)\n",
    "plt.plot(x_values,regress_values,\"r-\")\n",
    "plt.annotate(line_eq,(min(x_values),min(y_values)),fontsize=15,color=\"red\")\n",
    "\n",
    "plt.title(f\"Southern Hemisphere Latitude vs Humidity {currentdate_mmddyy_format}\")\n",
    "plt.xlabel('Latitude')\n",
    "plt.ylabel('Humidity (%)')\n",
    "\n",
    "plt.show()"
   ]
  },
  {
   "cell_type": "markdown",
   "metadata": {},
   "source": [
    "In the Southern Hemisphere, it is observed that there is a wide range of humidity in higher latitudes; wider range in middle latitudes (-35 to 20) which are more on the lower humidity level. Lowest latitudes (-45 and lower) have high humidity level.\n",
    "\n"
   ]
  },
  {
   "cell_type": "markdown",
   "metadata": {},
   "source": [
    "####  Northern Hemisphere - Cloudiness (%) vs. Latitude Linear Regression"
   ]
  },
  {
   "cell_type": "code",
   "execution_count": 27,
   "metadata": {},
   "outputs": [
    {
     "data": {
      "image/png": "[encoded data removed]",
      "text/plain": [
       "<Figure size 432x288 with 1 Axes>"
      ]
     },
     "metadata": {
      "needs_background": "light"
     },
     "output_type": "display_data"
    }
   ],
   "source": [
    "x_values = north_hem_weather_data_df[\"latitude\"]\n",
    "y_values = north_hem_weather_data_df[\"cloud\"]\n",
    "(slope, intercept, rvalue, pvalue, stderr) = linregress(x_values, y_values)\n",
    "regress_values = x_values * slope + intercept\n",
    "line_eq = \"y = \" + str(round(slope,2)) + \"x + \" + str(round(intercept,2))\n",
    "plt.scatter(x_values,y_values)\n",
    "plt.plot(x_values,regress_values,\"r-\")\n",
    "plt.annotate(line_eq,(min(x_values),min(y_values)),fontsize=15,color=\"red\")\n",
    "\n",
    "plt.title(f\"Northern Hemisphere Latitude vs Cloudiness {currentdate_mmddyy_format}\")\n",
    "plt.xlabel('Latitude')\n",
    "plt.ylabel('Cloudiness (%)')\n",
    "\n",
    "plt.show()"
   ]
  },
  {
   "cell_type": "markdown",
   "metadata": {},
   "source": [
    "Cloudiness in the Northern Hemisphere is noticeably at a wide range at this time of the year based on this graph. \n",
    "The graph also shows a lot of cities with 100% cloudiness in lower and higher latitudes, while 0% cloudiness from middle to higher latitudes.\n",
    "\n"
   ]
  },
  {
   "cell_type": "markdown",
   "metadata": {},
   "source": [
    "####  Southern Hemisphere - Cloudiness (%) vs. Latitude Linear Regression"
   ]
  },
  {
   "cell_type": "code",
   "execution_count": 28,
   "metadata": {},
   "outputs": [
    {
     "data": {
      "image/png": "[encoded data removed]",
      "text/plain": [
       "<Figure size 432x288 with 1 Axes>"
      ]
     },
     "metadata": {
      "needs_background": "light"
     },
     "output_type": "display_data"
    }
   ],
   "source": [
    "x_values = south_hem_weather_data_df[\"latitude\"]\n",
    "y_values = south_hem_weather_data_df[\"cloud\"]\n",
    "(slope, intercept, rvalue, pvalue, stderr) = linregress(x_values, y_values)\n",
    "regress_values = x_values * slope + intercept\n",
    "line_eq = \"y = \" + str(round(slope,2)) + \"x + \" + str(round(intercept,2))\n",
    "plt.scatter(x_values,y_values)\n",
    "plt.plot(x_values,regress_values,\"r-\")\n",
    "plt.annotate(line_eq,(min(x_values),min(y_values)),fontsize=15,color=\"red\")\n",
    "\n",
    "plt.title(f\"Southern Hemisphere Latitude vs Cloudiness {currentdate_mmddyy_format}\")\n",
    "plt.xlabel('Latitude')\n",
    "plt.ylabel('Cloudiness (%)')\n",
    "\n",
    "plt.show()"
   ]
  },
  {
   "cell_type": "markdown",
   "metadata": {},
   "source": [
    "Cloudiness in the Southern Hemisphere is also at a wide range at this time of the year. \n",
    "The graph shows cities with 100% cloudiness in different latitudes, while 0% cloudiness from middle to higher latitudes.\n",
    "\n"
   ]
  },
  {
   "cell_type": "markdown",
   "metadata": {},
   "source": [
    "####  Northern Hemisphere - Wind Speed (mph) vs. Latitude Linear Regression"
   ]
  },
  {
   "cell_type": "code",
   "execution_count": 29,
   "metadata": {},
   "outputs": [
    {
     "data": {
      "image/png": "[encoded data removed]",
      "text/plain": [
       "<Figure size 432x288 with 1 Axes>"
      ]
     },
     "metadata": {
      "needs_background": "light"
     },
     "output_type": "display_data"
    }
   ],
   "source": [
    "x_values = north_hem_weather_data_df[\"latitude\"]\n",
    "y_values = north_hem_weather_data_df[\"wind\"]\n",
    "(slope, intercept, rvalue, pvalue, stderr) = linregress(x_values, y_values)\n",
    "regress_values = x_values * slope + intercept\n",
    "line_eq = \"y = \" + str(round(slope,2)) + \"x + \" + str(round(intercept,2))\n",
    "plt.scatter(x_values,y_values)\n",
    "plt.plot(x_values,regress_values,\"r-\")\n",
    "plt.annotate(line_eq,(min(x_values),max(y_values)-1),fontsize=15,color=\"red\")\n",
    "\n",
    "plt.title(f\"Northern Hemisphere Latitude vs Wind Speed {currentdate_mmddyy_format}\")\n",
    "plt.xlabel('Latitude')\n",
    "plt.ylabel('Wind Speed (mph)')\n",
    "\n",
    "plt.show()"
   ]
  },
  {
   "cell_type": "markdown",
   "metadata": {},
   "source": [
    "Northern Hemisphere has noticeably a lot larger data with lower wind speed across all latitudes.\n",
    "\n"
   ]
  },
  {
   "cell_type": "markdown",
   "metadata": {},
   "source": [
    "####  Southern Hemisphere - Wind Speed (mph) vs. Latitude Linear Regression"
   ]
  },
  {
   "cell_type": "code",
   "execution_count": 30,
   "metadata": {},
   "outputs": [
    {
     "data": {
      "image/png": "[encoded data removed]",
      "text/plain": [
       "<Figure size 432x288 with 1 Axes>"
      ]
     },
     "metadata": {
      "needs_background": "light"
     },
     "output_type": "display_data"
    }
   ],
   "source": [
    "x_values = south_hem_weather_data_df[\"latitude\"]\n",
    "y_values = south_hem_weather_data_df[\"wind\"]\n",
    "(slope, intercept, rvalue, pvalue, stderr) = linregress(x_values, y_values)\n",
    "regress_values = x_values * slope + intercept\n",
    "line_eq = \"y = \" + str(round(slope,2)) + \"x + \" + str(round(intercept,2))\n",
    "plt.scatter(x_values,y_values)\n",
    "plt.plot(x_values,regress_values,\"r-\")\n",
    "plt.annotate(line_eq,(min(x_values),max(y_values)-1),fontsize=15,color=\"red\")\n",
    "\n",
    "plt.title(f\"Southern Hemisphere Latitude vs Wind Speed {currentdate_mmddyy_format}\")\n",
    "plt.xlabel('Latitude')\n",
    "plt.ylabel('Wind Speed (mph)')\n",
    "\n",
    "plt.show()"
   ]
  },
  {
   "cell_type": "markdown",
   "metadata": {},
   "source": [
    "Southern Hemisphere also has larger data with lower wind speed across all latitudes.\n",
    "\n"
   ]
  },
  {
   "cell_type": "markdown",
   "metadata": {},
   "source": [
    "# Observations"
   ]
  },
  {
   "cell_type": "markdown",
   "metadata": {},
   "source": [
    "1. City Latitude vs Max Temperature scatter plot shows that the cities with the hottest temperatures are those located between latitude 20 and 40.  This opposes common thinking it is always hotter in the cities at the equator.  It is hotter in than in Iran and Iraq (which are between 25 and 35 latitude) than in Maldives (which is close to the equator)."
   ]
  },
  {
   "cell_type": "markdown",
   "metadata": {},
   "source": [
    "2. Wind speed are mostly below 15mph across all latitudes at this time of the year."
   ]
  },
  {
   "cell_type": "markdown",
   "metadata": {},
   "source": [
    "3. Humidity level are mostly high (60% to 100%) across all latitudes at this time of the year. "
   ]
  }
 ],
 "metadata": {
  "anaconda-cloud": {},
  "kernel_info": {
   "name": "python3"
  },
  "kernelspec": {
   "display_name": "Python 3",
   "language": "python",
   "name": "python3"
  },
  "language_info": {
   "codemirror_mode": {
    "name": "ipython",
    "version": 3
   },
   "file_extension": ".py",
   "mimetype": "text/x-python",
   "name": "python",
   "nbconvert_exporter": "python",
   "pygments_lexer": "ipython3",
   "version": "3.6.10"
  },
  "latex_envs": {
   "LaTeX_envs_menu_present": true,
   "autoclose": false,
   "autocomplete": true,
   "bibliofile": "biblio.bib",
   "cite_by": "apalike",
   "current_citInitial": 1,
   "eqLabelWithNumbers": true,
   "eqNumInitial": 1,
   "hotkeys": {
    "equation": "Ctrl-E",
    "itemize": "Ctrl-I"
   },
   "labels_anchors": false,
   "latex_user_defs": false,
   "report_style_numbering": false,
   "user_envs_cfg": false
  },
  "nteract": {
   "version": "0.12.3"
  }
 },
 "nbformat": 4,
 "nbformat_minor": 2
}
